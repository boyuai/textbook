{
 "cells": [
  {
   "cell_type": "code",
   "execution_count": 1,
   "metadata": {},
   "outputs": [],
   "source": [
    "import numpy as np\n",
    "from skimage import io, data\n",
    "from skimage.color import rgb2lab, lab2rgb\n",
    "from sklearn.neighbors import KNeighborsRegressor\n",
    "import os"
   ]
  },
  {
   "cell_type": "code",
   "execution_count": 2,
   "metadata": {},
   "outputs": [],
   "source": [
    "data_dir = \"./data/knn/knn_data/\"\n",
    "input_path = \"./data/knn/input.jpg\"\n",
    "output_path = \"knn_output.jpg\"\n",
    "block_size = 1"
   ]
  },
  {
   "cell_type": "code",
   "execution_count": 3,
   "metadata": {},
   "outputs": [],
   "source": [
    "# 读入风格图像, 得到X, Y\n",
    "# X: 3*3像素格的灰度值\n",
    "# Y: 中心像素格的色彩值\n",
    "def read_style_image(file_name, size=block_size):\n",
    "    img = rgb2lab(io.imread(file_name))\n",
    "    w, h = img.shape[:2]\n",
    "    X = []\n",
    "    Y = []\n",
    "    for x in range(size, w - size):\n",
    "        for y in range(size, h - size):\n",
    "            X.append(img[x - size : x + size + 1, y - size : y + size + 1, 0].reshape(-1))\n",
    "            Y.append(img[x, y, 1:])\n",
    "    return X, Y"
   ]
  },
  {
   "cell_type": "code",
   "execution_count": 4,
   "metadata": {},
   "outputs": [],
   "source": [
    "# 根据若干张彩色图像构造数据集\n",
    "# X: 3*3像素格的灰度值\n",
    "# Y: 中心像素格的色彩值\n",
    "def create_dataset(data_dir=data_dir, size=1):\n",
    "    X = []\n",
    "    Y = []\n",
    "    n = 0\n",
    "    for file in os.listdir(data_dir):\n",
    "        print(\"reading\", file)\n",
    "        X0, Y0 = read_style_image(os.path.join(data_dir, file))\n",
    "        X.extend(X0)\n",
    "        Y.extend(Y0)\n",
    "        n += 1\n",
    "        if n >= size:\n",
    "            break\n",
    "    return X, Y"
   ]
  },
  {
   "cell_type": "code",
   "execution_count": 5,
   "metadata": {},
   "outputs": [
    {
     "name": "stdout",
     "output_type": "stream",
     "text": [
      "reading data\n",
      "reading kNNStyle.jpg\n",
      "finish reading\n"
     ]
    }
   ],
   "source": [
    "print(\"reading data\")\n",
    "X, Y = create_dataset()\n",
    "print(\"finish reading\")"
   ]
  },
  {
   "cell_type": "code",
   "execution_count": 6,
   "metadata": {},
   "outputs": [
    {
     "name": "stdout",
     "output_type": "stream",
     "text": [
      "start fitting\n",
      "finish fitting\n"
     ]
    }
   ],
   "source": [
    "# 构造KNN模型，设置K=4, 预测的色彩值是与其最近的4个点的色彩值的加权平均\n",
    "# 权重与距离的倒数成正比\n",
    "nbrs = KNeighborsRegressor(n_neighbors=4, weights='distance')\n",
    "\n",
    "print(\"start fitting\")\n",
    "nbrs.fit(X, Y)\n",
    "print(\"finish fitting\")"
   ]
  },
  {
   "cell_type": "code",
   "execution_count": 7,
   "metadata": {},
   "outputs": [],
   "source": [
    "# 处理原图像得到X\n",
    "def split_origin_image(img, size=block_size):\n",
    "    w, h = img.shape[:2]\n",
    "    X = []\n",
    "    for x in range(size, w - size):\n",
    "        for y in range(size, h - size):\n",
    "            X.append(img[x - size : x + size + 1, y - size : y + size + 1, 0].reshape(-1))\n",
    "    return X"
   ]
  },
  {
   "cell_type": "code",
   "execution_count": 8,
   "metadata": {},
   "outputs": [],
   "source": [
    "# 根据KNN算法得到风格迁移后的图像\n",
    "def rebuild(file_name, size=block_size):\n",
    "    img = rgb2lab(io.imread(file_name))\n",
    "    w, h = img.shape[:2]\n",
    "    photo = np.zeros([w, h, 3])\n",
    "    X = split_origin_image(img)\n",
    "    print(\"start predicting\")\n",
    "    p_ab = nbrs.predict(X).reshape(w - 2 * size, h - 2 * size, -1)\n",
    "    print(\"finish predicting\")\n",
    "    for x in range(size, w - size):\n",
    "        for y in range(size, h - size):\n",
    "            photo[x, y, 0] = img[x, y, 0]\n",
    "            photo[x, y, 1] = p_ab[x - size, y - size, 0]\n",
    "            photo[x, y, 2] = p_ab[x - size, y - size, 1]\n",
    "    return photo"
   ]
  },
  {
   "cell_type": "code",
   "execution_count": 9,
   "metadata": {},
   "outputs": [
    {
     "name": "stdout",
     "output_type": "stream",
     "text": [
      "start predicting\n",
      "finish predicting\n"
     ]
    }
   ],
   "source": [
    "new_photo = rebuild(input_path)"
   ]
  },
  {
   "cell_type": "code",
   "execution_count": 10,
   "metadata": {},
   "outputs": [
    {
     "data": {
      "text/plain": [
       "array([[[0.        , 0.        , 0.        ],\n",
       "        [0.        , 0.        , 0.        ],\n",
       "        [0.        , 0.        , 0.        ],\n",
       "        ...,\n",
       "        [0.        , 0.        , 0.        ],\n",
       "        [0.        , 0.        , 0.        ],\n",
       "        [0.        , 0.        , 0.        ]],\n",
       "\n",
       "       [[0.        , 0.        , 0.        ],\n",
       "        [0.98276003, 0.93693233, 0.67400384],\n",
       "        [0.97783824, 0.93319112, 0.67186206],\n",
       "        ...,\n",
       "        [0.57922611, 0.74639528, 0.77978305],\n",
       "        [0.64679917, 0.74701502, 0.72380214],\n",
       "        [0.        , 0.        , 0.        ]],\n",
       "\n",
       "       [[0.        , 0.        , 0.        ],\n",
       "        [0.98726262, 0.93587738, 0.66822929],\n",
       "        [0.97303181, 0.93548908, 0.65974577],\n",
       "        ...,\n",
       "        [0.8193591 , 0.71886107, 0.4024799 ],\n",
       "        [0.73340663, 0.74457097, 0.6067231 ],\n",
       "        [0.        , 0.        , 0.        ]],\n",
       "\n",
       "       ...,\n",
       "\n",
       "       [[0.        , 0.        , 0.        ],\n",
       "        [0.35363203, 0.57944573, 0.71119451],\n",
       "        [0.34335161, 0.5750418 , 0.7177199 ],\n",
       "        ...,\n",
       "        [0.26670334, 0.47564439, 0.69109584],\n",
       "        [0.27350077, 0.49650235, 0.68608777],\n",
       "        [0.        , 0.        , 0.        ]],\n",
       "\n",
       "       [[0.        , 0.        , 0.        ],\n",
       "        [0.35292846, 0.57868931, 0.71776475],\n",
       "        [0.35645342, 0.58224949, 0.72562086],\n",
       "        ...,\n",
       "        [0.27863256, 0.48936349, 0.6933804 ],\n",
       "        [0.30109039, 0.49975953, 0.70599901],\n",
       "        [0.        , 0.        , 0.        ]],\n",
       "\n",
       "       [[0.        , 0.        , 0.        ],\n",
       "        [0.        , 0.        , 0.        ],\n",
       "        [0.        , 0.        , 0.        ],\n",
       "        ...,\n",
       "        [0.        , 0.        , 0.        ],\n",
       "        [0.        , 0.        , 0.        ],\n",
       "        [0.        , 0.        , 0.        ]]])"
      ]
     },
     "metadata": {},
     "output_type": "display_data"
    }
   ],
   "source": [
    "# 显示输出图像\n",
    "from IPython.display import display\n",
    "display(lab2rgb(new_photo))"
   ]
  },
  {
   "cell_type": "code",
   "execution_count": null,
   "metadata": {},
   "outputs": [],
   "source": []
  }
 ],
 "metadata": {
  "kernelspec": {
   "display_name": "Python 3",
   "language": "python",
   "name": "python3"
  },
  "language_info": {
   "codemirror_mode": {
    "name": "ipython",
    "version": 3
   },
   "file_extension": ".py",
   "mimetype": "text/x-python",
   "name": "python",
   "nbconvert_exporter": "python",
   "pygments_lexer": "ipython3",
   "version": "3.6.8"
  }
 },
 "nbformat": 4,
 "nbformat_minor": 2
}
