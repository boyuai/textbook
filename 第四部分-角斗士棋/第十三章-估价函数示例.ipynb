{
 "cells": [
  {
   "cell_type": "code",
   "execution_count": null,
   "metadata": {},
   "outputs": [],
   "source": [
    "def evaluate(board, player_id):\n",
    "    \n",
    "    # 双方的id分别是0和1\n",
    "    opponent_id = 1 - player_id\n",
    "    \n",
    "    # get_score(board, id)返回id对应的玩家占据的方格数目\n",
    "    # eval1是双方所占方格数目的差值\n",
    "    eval1 = get_score(board, player_id) - get_score(board, opponent_id)\n",
    "    \n",
    "    # get_valid_moves(board, id)返回id对应的玩家下一步的所有合法行动\n",
    "    # eval2是双方可以走的位置数目的差值\n",
    "    eval2 = len(get_valid_moves(board, player_id)) - len(get_valid_moves(board, opponent_id))\n",
    "    \n",
    "    return eval1 + eval2"
   ]
  }
 ],
 "metadata": {
  "kernelspec": {
   "display_name": "Python 3",
   "language": "python",
   "name": "python3"
  },
  "language_info": {
   "codemirror_mode": {
    "name": "ipython",
    "version": 3
   },
   "file_extension": ".py",
   "mimetype": "text/x-python",
   "name": "python",
   "nbconvert_exporter": "python",
   "pygments_lexer": "ipython3",
   "version": "3.6.4"
  }
 },
 "nbformat": 4,
 "nbformat_minor": 2
}
