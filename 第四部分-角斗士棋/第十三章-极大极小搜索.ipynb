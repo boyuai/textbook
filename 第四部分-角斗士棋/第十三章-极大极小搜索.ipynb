{
 "cells": [
  {
   "cell_type": "markdown",
   "metadata": {},
   "source": [
    "极大极小搜索的原始形式如下所示："
   ]
  },
  {
   "cell_type": "code",
   "execution_count": null,
   "metadata": {},
   "outputs": [],
   "source": [
    "def minimax(board, depth, player_id):\n",
    "    \n",
    "    # 达到最大深度，或已经是终局局面，直接估值\n",
    "    if depth == 0 or is_terminated(board):\n",
    "        return evaluate(board, player_id)\n",
    "    \n",
    "    # 双方的id分别是0和1\n",
    "    opponent_id = 1 - player_id\n",
    "    \n",
    "    if is_maximizing_player(player_id):\n",
    "        # 当前player是我方\n",
    "        score = -float('inf')\n",
    "        for move in get_valid_moves(board, player_id):\n",
    "            new_board = drop(board, move)\n",
    "            # 下一层搜索\n",
    "            score = max(score, minimax(new_board, depth - 1, opponent_id))\n",
    "        return score\n",
    "    else:\n",
    "        # 当前player是对方\n",
    "        score = float('inf')\n",
    "        for move in get_valid_moves(board, player_id):\n",
    "            new_board = drop(board, move)\n",
    "            score = min(score, minimax(new_board, depth - 1, opponent_id))\n",
    "        return score\n",
    "      \n",
    "        \n",
    "# 外部初始调用，max_depth即是最大搜索深度\n",
    "minimax(current_board, max_depth, player_id)"
   ]
  },
  {
   "cell_type": "markdown",
   "metadata": {},
   "source": [
    "利用$max(a,b)=-min(-a,-b)$，可以将极大极小搜索改写为负值最大形式。"
   ]
  },
  {
   "cell_type": "code",
   "execution_count": null,
   "metadata": {},
   "outputs": [],
   "source": [
    "def negamax(board, depth, player_id):\n",
    "    \n",
    "    # 达到最大深度，或已经是终局局面，直接估值\n",
    "    if depth == 0 or is_terminated(board):\n",
    "        return evaluate(board, player_id)\n",
    "    \n",
    "    # 双方的id分别是0和1\n",
    "    opponent_id = 1 - player_id\n",
    "    \n",
    "    score = -float('inf')\n",
    "    for move in get_valid_moves(board, player_id):\n",
    "        new_board = drop(board, move)\n",
    "        score = max(score, -negamax(new_board, depth - 1, opponent_id))\n",
    "    return score"
   ]
  }
 ],
 "metadata": {
  "kernelspec": {
   "display_name": "Python 3",
   "language": "python",
   "name": "python3"
  },
  "language_info": {
   "codemirror_mode": {
    "name": "ipython",
    "version": 3
   },
   "file_extension": ".py",
   "mimetype": "text/x-python",
   "name": "python",
   "nbconvert_exporter": "python",
   "pygments_lexer": "ipython3",
   "version": "3.6.4"
  }
 },
 "nbformat": 4,
 "nbformat_minor": 2
}
