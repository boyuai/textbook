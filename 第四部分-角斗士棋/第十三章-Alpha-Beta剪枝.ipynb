{
 "cells": [
  {
   "cell_type": "code",
   "execution_count": null,
   "metadata": {},
   "outputs": [],
   "source": [
    "def alphabeta(board, depth, alpha, beta, player_id):\n",
    "    \n",
    "    # 达到最大深度，或已经是终局局面，直接估值\n",
    "    if depth == 0 or is_terminated(board):\n",
    "        return evaluate(board, player_id)\n",
    "    \n",
    "    # 双方的id分别是0和1\n",
    "    opponent_id = 1 - player_id\n",
    "    \n",
    "    # 极大玩家部分\n",
    "    if is_maximizing_player(player_id):\n",
    "        score = -float('inf')\n",
    "        for move in get_valid_moves(board, player_id):\n",
    "            new_board = drop(board, move)\n",
    "            score = max(score, alphabeta(new_board, depth - 1, alpha, beta, opponent_id))\n",
    "            \n",
    "            # 有得分更高的子树，更新alpha\n",
    "            if alpha < score:\n",
    "                alpha = score\n",
    "            # 出现alpha>=beta，直接剪枝\n",
    "            if alpha >= beta:\n",
    "                break\n",
    "        return score\n",
    "    \n",
    "    # 极小玩家部分\n",
    "    else:\n",
    "        score = float('inf')\n",
    "        for move in get_valid_moves(board, player_id):\n",
    "            new_board = drop(board, move)\n",
    "            score = min(score, alphabeta(new_board, depth - 1, alpha, beta, opponent_id))\n",
    "            \n",
    "            # 有得分更低的子树，更新beta\n",
    "            if beta > score:\n",
    "                beta = score\n",
    "            if alpha >= beta:\n",
    "                break\n",
    "                \n",
    "        return score\n",
    "\n",
    "    \n",
    "# 外部初始调用，将alpha设置为-inf，beta设置为inf\n",
    "alphabeta(current_board, max_depth, -float('inf'), float('inf'), player_id)"
   ]
  }
 ],
 "metadata": {
  "kernelspec": {
   "display_name": "Python 3",
   "language": "python",
   "name": "python3"
  },
  "language_info": {
   "codemirror_mode": {
    "name": "ipython",
    "version": 3
   },
   "file_extension": ".py",
   "mimetype": "text/x-python",
   "name": "python",
   "nbconvert_exporter": "python",
   "pygments_lexer": "ipython3",
   "version": "3.6.4"
  }
 },
 "nbformat": 4,
 "nbformat_minor": 2
}
