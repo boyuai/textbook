{
 "cells": [
  {
   "cell_type": "code",
   "execution_count": null,
   "metadata": {},
   "outputs": [],
   "source": [
    "def greedy_strategy(board, player_id):\n",
    "    \n",
    "    # Move类用来记录一次落子的具体信息，如位置、棋子种类等\n",
    "    max_score = -float('inf')\n",
    "    best_move = Move()\n",
    "    \n",
    "    for move in get_valid_moves(board, player_id):\n",
    "        # 尝试每一种可能的走法，并计算估值\n",
    "        new_board = drop(board, move)\n",
    "        score = evaluate(new_board, player_id)\n",
    "        \n",
    "        # 如果找到更优下法，则更新当下最优的move和score\n",
    "        if score > max_score:\n",
    "            max_score = score\n",
    "            best_move = move\n",
    "            \n",
    "    return max_score, best_move"
   ]
  }
 ],
 "metadata": {
  "kernelspec": {
   "display_name": "Python 3",
   "language": "python",
   "name": "python3"
  },
  "language_info": {
   "codemirror_mode": {
    "name": "ipython",
    "version": 3
   },
   "file_extension": ".py",
   "mimetype": "text/x-python",
   "name": "python",
   "nbconvert_exporter": "python",
   "pygments_lexer": "ipython3",
   "version": "3.6.4"
  }
 },
 "nbformat": 4,
 "nbformat_minor": 2
}
